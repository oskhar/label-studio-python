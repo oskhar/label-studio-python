{
 "cells": [
  {
   "cell_type": "code",
   "execution_count": null,
   "id": "e4e1b178-f3f6-4f3a-9219-1dd91f72e4e6",
   "metadata": {},
   "outputs": [],
   "source": [
    "import os\n",
    "import numpy as np\n",
    "import librosa\n",
    "import librosa.display\n",
    "from pydub import AudioSegment\n",
    "from pydub.utils import make_chunks\n",
    "import matplotlib.pyplot as plt\n",
    "from sklearn.model_selection import train_test_split\n",
    "from tensorflow.keras.utils import to_categorical\n",
    "from tensorflow.keras.models import Sequential\n",
    "from tensorflow.keras.layers import Conv2D, MaxPooling2D, Flatten, Dense, Dropout\n",
    "import pandas as pd\n",
    "from datetime import datetime\n",
    "from label_studio_sdk import Client"
   ]
  },
  {
   "cell_type": "code",
   "execution_count": null,
   "id": "a84c4a0c-f76e-4194-8895-d2e0fa492002",
   "metadata": {},
   "outputs": [],
   "source": [
    "# Connect Label Studio\n",
    "label_studio_url = \"http://localhost:8080\"\n",
    "api_key = \"23ce5b08cc51665ab3bb19e0bf0c43b21c7c0723\"\n",
    "client = Client(url=label_studio_url, api_key=api_key)"
   ]
  },
  {
   "cell_type": "code",
   "execution_count": null,
   "id": "2a8a2a39-6310-4948-be1e-a19ae8cb7f3d",
   "metadata": {},
   "outputs": [],
   "source": [
    "# Step 2: Get project from Label Studio\n",
    "project_id = 8\n",
    "project = client.get_project(project_id)"
   ]
  },
  {
   "cell_type": "code",
   "execution_count": null,
   "id": "e8020c7f-7a68-44ed-a21b-277ffb22bd86",
   "metadata": {},
   "outputs": [],
   "source": [
    "# Step 3: Fetch annotations and prepare data\n",
    "annotations = project.get_tasks()\n",
    "audio_path_root = \"/home/oskhar/.local/share/label-studio/media/\""
   ]
  },
  {
   "cell_type": "code",
   "execution_count": null,
   "id": "24a1cf01-50cb-47ce-bbe8-58a585ff5563",
   "metadata": {},
   "outputs": [],
   "source": [
    "\n",
    "def extract_mfcc(audio_path, start, end, sample_rate=16000, n_mfcc=13):\n",
    "    \"\"\"\n",
    "    Ekstraksi MFCC dari segmen audio.\n",
    "    \"\"\"\n",
    "    try:\n",
    "        # Load audio menggunakan pydub\n",
    "        audio = AudioSegment.from_file(audio_path)\n",
    "        # Potong segmen berdasarkan waktu (dalam milidetik)\n",
    "        segment = audio[start * 1000:end * 1000]\n",
    "        # Konversi audio ke numpy array\n",
    "        samples = np.array(segment.get_array_of_samples(), dtype=np.float32)\n",
    "        # Resample audio jika diperlukan\n",
    "        samples_resampled = librosa.resample(samples, orig_sr=segment.frame_rate, target_sr=sample_rate)\n",
    "        # Ekstraksi MFCC\n",
    "        mfcc_features = librosa.feature.mfcc(y=samples_resampled, sr=sample_rate, n_mfcc=n_mfcc)\n",
    "        return mfcc_features\n",
    "    except Exception as e:\n",
    "        print(f\"Error processing {audio_path} from {start} to {end}: {e}\")\n",
    "        return None"
   ]
  },
  {
   "cell_type": "code",
   "execution_count": null,
   "id": "42c53061-5da4-491d-bf98-f6eda1f357c7",
   "metadata": {},
   "outputs": [],
   "source": [
    "# Proses dataset\n",
    "audio_files = []\n",
    "labels = []\n",
    "label_mapping = {}  # Mapping label ke integer\n",
    "label_counter = 0"
   ]
  },
  {
   "cell_type": "code",
   "execution_count": null,
   "id": "556850d9-0e02-4df7-92ef-526768e90d16",
   "metadata": {},
   "outputs": [],
   "source": [
    "for row in annotations:\n",
    "    audio_path_tmp = row['data']['audio']  # Path to audio file\n",
    "    audio_path = audio_path_root + audio_path_tmp.replace(\"/data/\", \"\")\n",
    "    label_data_tmp = row[\"data\"][\"label\"]\n",
    "    label_data = eval(label_data_tmp)  # Anotasi dalam bentuk list of dictionaries\n",
    "\n",
    "    for annotation in label_data:\n",
    "        start = annotation[\"start\"]\n",
    "        end = annotation[\"end\"]\n",
    "        label_name = annotation[\"labels\"][0]  # Nama label pertama\n",
    "\n",
    "        # Mapping label ke integer jika belum ada\n",
    "        if label_name not in label_mapping:\n",
    "            label_mapping[label_name] = label_counter\n",
    "            label_counter += 1\n",
    "\n",
    "        # Ekstraksi MFCC menggunakan pydub\n",
    "        mfcc = extract_mfcc(audio_path, start, end)\n",
    "        if mfcc is not None:  # Pastikan ekstraksi berhasil\n",
    "            audio_files.append(mfcc)\n",
    "            labels.append(label_mapping[label_name])"
   ]
  },
  {
   "cell_type": "code",
   "execution_count": null,
   "id": "2494e26c-9585-400c-a85f-0cf284f94367",
   "metadata": {},
   "outputs": [],
   "source": [
    "# Konversi dataset menjadi numpy arrays\n",
    "X_data = np.array(audio_files)\n",
    "y_labels = to_categorical(labels, num_classes=len(label_mapping))"
   ]
  },
  {
   "cell_type": "code",
   "execution_count": null,
   "id": "8b18bdff-9f90-43f4-92b1-cf326f96dc61",
   "metadata": {},
   "outputs": [],
   "source": [
    "# Split data menjadi training dan testing\n",
    "X_train, X_test, y_train, y_test = train_test_split(X_data, y_labels, test_size=0.2, random_state=42)"
   ]
  },
  {
   "cell_type": "code",
   "execution_count": null,
   "id": "ffbc687e-fa3c-43b7-b7af-b75c99ef8d4b",
   "metadata": {},
   "outputs": [],
   "source": [
    "# Reshape data agar sesuai dengan input CNN\n",
    "X_train = X_train[..., np.newaxis]  # Tambahkan channel untuk grayscale\n",
    "X_test = X_test[..., np.newaxis]"
   ]
  },
  {
   "cell_type": "code",
   "execution_count": null,
   "id": "c16ee729-e78a-473a-9f57-98847d7824ea",
   "metadata": {},
   "outputs": [],
   "source": [
    "# Definisi model CNN\n",
    "model = Sequential([\n",
    "    Conv2D(32, (3, 3), activation='relu', input_shape=(40, 128, 1)),\n",
    "    MaxPooling2D((2, 2)),\n",
    "    Conv2D(64, (3, 3), activation='relu'),\n",
    "    MaxPooling2D((2, 2)),\n",
    "    Conv2D(128, (3, 3), activation='relu'),\n",
    "    MaxPooling2D((2, 2)),\n",
    "    Flatten(),\n",
    "    Dense(128, activation='relu'),\n",
    "    Dropout(0.5),  # Regularisasi\n",
    "    Dense(len(label_mapping), activation='softmax')  # Output sesuai jumlah kelas\n",
    "])"
   ]
  },
  {
   "cell_type": "code",
   "execution_count": null,
   "id": "2d3d8f26-9a10-46e2-bc03-365609f5fd22",
   "metadata": {},
   "outputs": [],
   "source": [
    "# Kompilasi model\n",
    "model.compile(optimizer='adam', loss='categorical_crossentropy', metrics=['accuracy'])"
   ]
  },
  {
   "cell_type": "code",
   "execution_count": null,
   "id": "9cfc9ea8-28d6-4213-a8e3-be07c68ddaa6",
   "metadata": {},
   "outputs": [],
   "source": [
    "# Pelatihan model dengan pelacakan waktu\n",
    "start_time = datetime.now()\n",
    "print(f\"Training started at: {start_time}\")\n",
    "\n",
    "history = model.fit(X_train, y_train, epochs=20, validation_data=(X_test, y_test), batch_size=32)\n",
    "\n",
    "end_time = datetime.now()\n",
    "print(f\"Training ended at: {end_time}\")\n",
    "print(f\"Training duration: {end_time - start_time}\")"
   ]
  },
  {
   "cell_type": "code",
   "execution_count": null,
   "id": "1c928949-d3e4-457f-82a7-5fe6f0f46e2d",
   "metadata": {},
   "outputs": [],
   "source": [
    "# Evaluasi model\n",
    "loss, accuracy = model.evaluate(X_test, y_test, verbose=2)\n",
    "print(f\"Test Loss: {loss}\")\n",
    "print(f\"Test Accuracy: {accuracy}\")"
   ]
  },
  {
   "cell_type": "code",
   "execution_count": null,
   "id": "f99e7f4b-3e0c-42e7-bdff-4b446613b361",
   "metadata": {},
   "outputs": [],
   "source": [
    "# Visualisasi hasil pelatihan\n",
    "plt.figure(figsize=(12, 4))\n",
    "plt.subplot(1, 2, 1)\n",
    "plt.plot(history.history['loss'], label='Training Loss')\n",
    "plt.plot(history.history['val_loss'], label='Validation Loss')\n",
    "plt.legend()\n",
    "plt.title('Loss Over Epochs')\n",
    "\n",
    "plt.subplot(1, 2, 2)\n",
    "plt.plot(history.history['accuracy'], label='Training Accuracy')\n",
    "plt.plot(history.history['val_accuracy'], label='Validation Accuracy')\n",
    "plt.legend()\n",
    "plt.title('Accuracy Over Epochs')\n",
    "\n",
    "plt.show()"
   ]
  }
 ],
 "metadata": {
  "kernelspec": {
   "display_name": "Python 3 (ipykernel)",
   "language": "python",
   "name": "python3"
  },
  "language_info": {
   "codemirror_mode": {
    "name": "ipython",
    "version": 3
   },
   "file_extension": ".py",
   "mimetype": "text/x-python",
   "name": "python",
   "nbconvert_exporter": "python",
   "pygments_lexer": "ipython3",
   "version": "3.11.6"
  }
 },
 "nbformat": 4,
 "nbformat_minor": 5
}
