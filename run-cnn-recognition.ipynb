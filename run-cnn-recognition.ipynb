{
 "cells": [
  {
   "cell_type": "code",
   "execution_count": 4,
   "id": "c709dd22-d661-4ea2-8c96-f9620a71ff86",
   "metadata": {},
   "outputs": [],
   "source": [
    "import os\n",
    "import numpy as np\n",
    "import librosa\n",
    "import librosa.display\n",
    "import matplotlib.pyplot as plt\n",
    "from sklearn.model_selection import train_test_split\n",
    "from tensorflow.keras.utils import to_categorical\n",
    "from tensorflow.keras.models import Sequential\n",
    "from tensorflow.keras.layers import Conv2D, MaxPooling2D, Flatten, Dense\n",
    "from label_studio_sdk import Client"
   ]
  },
  {
   "cell_type": "code",
   "execution_count": 5,
   "id": "49607dc6-4815-43bf-9afc-5f13c79242a0",
   "metadata": {},
   "outputs": [],
   "source": [
    "\n",
    "# 1. Connect to Label Studio\n",
    "label_studio_url = \"http://localhost:8080\"\n",
    "api_key = \"6b1e655ca53d8d10366d3d7fcb6940e4d072c4de\"\n",
    "client = Client(url=label_studio_url, api_key=api_key)\n"
   ]
  },
  {
   "cell_type": "code",
   "execution_count": 6,
   "id": "d885da83-1743-4852-ad4f-262edffc047c",
   "metadata": {},
   "outputs": [],
   "source": [
    "# 2. Dapatkan proyek Label Studio berdasarkan ID proyek\n",
    "project_id = 2  # Ganti dengan ID proyek Anda\n",
    "project = client.get_project(project_id)"
   ]
  },
  {
   "cell_type": "code",
   "execution_count": 7,
   "id": "8d9867ff-693e-44b1-8e97-acf32b6f7b3e",
   "metadata": {},
   "outputs": [],
   "source": [
    "# 3. Ambil anotasi dari proyek\n",
    "tasks = project.get_tasks()"
   ]
  },
  {
   "cell_type": "code",
   "execution_count": 9,
   "id": "64de96b3-9e80-4497-8b40-aaf930cc0d78",
   "metadata": {},
   "outputs": [],
   "source": [
    "\"\"\"\n",
    "Memuat file audio dari audio_path menggunakan librosa.load, dengan sampling rate (sr) yang dapat ditentukan pengguna.\n",
    "Selanjutnya, kode menghasilkan spektrogram Mel (mel_spect) menggunakan librosa.feature.melspectrogram, yang mengubah\n",
    "sinyal audio menjadi representasi frekuensi berbasis Mel dengan jumlah filter bank tertentu (n_mels). Setelah itu,\n",
    "spektrogram Mel yang masih dalam bentuk daya diubah ke skala desibel (mel_spect_db) menggunakan librosa.power_to_db,\n",
    "dengan referensi normalisasi berdasarkan nilai maksimum. Hasil akhirnya adalah spektrogram Mel dalam skala desibel,\n",
    "yang dapat digunakan untuk analisis lebih lanjut, seperti pemrosesan suara atau pembelajaran mesin.\n",
    "\"\"\"\n",
    "# Function to extract mel-spectrograms\n",
    "def extract_mel_spectrogram(audio_path, sr=22050, n_mels=128):\n",
    "    y, sr = librosa.load(audio_path, sr=sr)\n",
    "    mel_spect = librosa.feature.melspectrogram(y=y, sr=sr, n_mels=n_mels)\n",
    "    mel_spect_db = librosa.power_to_db(mel_spect, ref=np.max)\n",
    "    return mel_spect_db"
   ]
  },
  {
   "cell_type": "code",
   "execution_count": null,
   "id": "48d0ef1c-9f2a-4400-ad5a-816caa017195",
   "metadata": {},
   "outputs": [],
   "source": [
    "\"\"\"\n",
    "Analisis sinyal audio dengan menghasilkan spektrogram Mel dalam skala desibel. Proses dimulai dengan memuat file audio\n",
    "dari audio_path menggunakan librosa.load, di mana pengguna dapat menentukan sampling rate (sr). Kemudian, sinyal audio\n",
    "dikonversi menjadi spektrogram Mel (mel_spect) menggunakan librosa.feature.melspectrogram, yang merepresentasikan\n",
    "energi frekuensi dalam skala Mel dengan jumlah filter tertentu (n_mels). Setelah itu, librosa.power_to_db digunakan\n",
    "untuk mengubah nilai daya dalam spektrogram menjadi skala desibel (mel_spect_db), dengan normalisasi berdasarkan nilai\n",
    "maksimum. Hasil akhirnya adalah representasi visual dari konten frekuensi dalam sinyal audio, yang berguna untuk\n",
    "berbagai aplikasi seperti analisis suara, pengenalan pola, atau pembelajaran mesin.\n",
    "\"\"\"\n",
    "# Prepare dataset\n",
    "audio_files = []\n",
    "labels = []\n",
    "for task in tasks:\n",
    "    annotations = task.get(\"annotations\", [])\n",
    "    if not annotations:\n",
    "        continue\n",
    "\n",
    "    # Ambil path audio dan label dari anotasi\n",
    "    audio_path = task['data']['audio']  # Sesuaikan dengan nama field di Label Studio\n",
    "    label = annotations[0]['result'][0]['value']['choices'][0]  # Sesuaikan dengan struktur anotasi Anda\n",
    "\n",
    "    # Load audio dan extract mel-spectrogram\n",
    "    mel_spectrogram = extract_mel_spectrogram(audio_path)\n",
    "\n",
    "    # Resize spectrogram to a fixed shape (e.g., 128x128)\n",
    "    mel_spectrogram = librosa.util.fix_length(mel_spectrogram, size=128)\n",
    "\n",
    "    # Append to the dataset\n",
    "    audio_files.append(mel_spectrogram)\n",
    "    labels.append(label)"
   ]
  },
  {
   "cell_type": "code",
   "execution_count": null,
   "id": "e23654b2-fdc0-493a-be50-73b7374fd52e",
   "metadata": {},
   "outputs": [],
   "source": [
    "\n",
    "\"\"\"\n",
    "Mengonversi label kategori menjadi nilai numerik agar dapat digunakan dalam pemrosesan data, seperti dalam model machine\n",
    "learning. Prosesnya dimulai dengan mengambil daftar unik dari label yang ada menggunakan `set(labels)`, lalu mengubahnya\n",
    "kembali menjadi daftar (`unique_labels`). Selanjutnya, kode membuat pemetaan dari setiap label unik ke indeks numerik dengan\n",
    "`enumerate()`, menghasilkan dictionary `label_to_index`. Terakhir, daftar `labels` asli dikonversi ke daftar angka (`numeric_labels`)\n",
    "dengan menggantikan setiap label dengan indeks yang sesuai dari dictionary. Hasil akhirnya adalah representasi numerik dari\n",
    "label, yang memudahkan analisis atau pelatihan model.\n",
    "\"\"\"\n",
    "# Convert labels to numeric values\n",
    "unique_labels = list(set(labels))\n",
    "label_to_index = {label: i for i, label in enumerate(unique_labels)}\n",
    "numeric_labels = [label_to_index[label] for label in labels]\n"
   ]
  },
  {
   "cell_type": "code",
   "execution_count": null,
   "id": "ca06b704-4a7a-47d3-90d1-9df96d87adb6",
   "metadata": {},
   "outputs": [],
   "source": [
    "\"\"\"\n",
    "Konversi data audio dan label kategori ke dalam format yang sesuai untuk pemrosesan dalam model machine learning. Pertama,\n",
    "`audio_files` yang berisi data audio dikonversi menjadi array NumPy (`X_data = np.array(audio_files)`) agar dapat digunakan\n",
    "dalam komputasi yang lebih efisien. Selanjutnya, label numerik yang telah dikonversi sebelumnya (`numeric_labels`) diubah\n",
    "menjadi representasi one-hot encoding menggunakan `to_categorical(numeric_labels)`. One-hot encoding mengubah setiap label\n",
    "menjadi vektor biner, di mana hanya satu elemen yang bernilai 1 dan sisanya 0, memungkinkan model untuk memahami hubungan\n",
    "kategori dengan lebih baik. Hasil akhirnya adalah `X_data` dalam bentuk array NumPy dan `y_labels` dalam format one-hot\n",
    "encoding, siap untuk digunakan dalam pelatihan model machine learning.\n",
    "\"\"\"\n"
   ]
  },
  {
   "cell_type": "code",
   "execution_count": null,
   "id": "04768f58-f563-4f8c-a302-378cacc55ce2",
   "metadata": {},
   "outputs": [],
   "source": [
    "\"\"\"\n",
    "membagi dataset menjadi data pelatihan dan pengujian menggunakan fungsi train_test_split dari sklearn.model_selection.\n",
    "X_data berisi data fitur (audio yang telah diproses), sedangkan y_labels berisi label dalam format one-hot encoding.\n",
    "Parameter test_size=0.2 menentukan bahwa 20% dari data akan digunakan sebagai data pengujian, sementara 80% sisanya digunakan\n",
    "untuk pelatihan. Parameter random_state=42 memastikan bahwa pembagian data bersifat deterministik, sehingga hasil yang\n",
    "diperoleh akan selalu sama setiap kali kode dijalankan. Hasil akhirnya adalah empat variabel: X_train dan y_train untuk\n",
    "pelatihan model, serta X_test dan y_test untuk evaluasi model.\n",
    "\"\"\"\n",
    "# Split data into training and testing sets\n",
    "X_train, X_test, y_train, y_test = train_test_split(X_data, y_labels, test_size=0.2, random_state=42)"
   ]
  },
  {
   "cell_type": "code",
   "execution_count": null,
   "id": "baa44f8d-b257-468b-a998-7be83617be5c",
   "metadata": {},
   "outputs": [],
   "source": [
    "\"\"\"\n",
    "engubah bentuk (reshape) data fitur agar sesuai dengan format yang dibutuhkan oleh model Convolutional Neural Network (CNN).\n",
    "Dalam CNN, data biasanya direpresentasikan sebagai tensor dengan dimensi tertentu, misalnya untuk gambar grayscale berukuran \n",
    "128 × 128, format inputnya adalah (height, width, channels), di mana channels = 1 untuk grayscale.\n",
    "Operasi X_train[..., np.newaxis] dan X_test[..., np.newaxis] menambahkan satu dimensi ekstra di akhir array, sehingga data\n",
    "yang sebelumnya berbentuk (samples, height, width) akan menjadi (samples, height, width, 1). Dengan demikian, data siap\n",
    "digunakan sebagai input untuk CNN yang mengharapkan format channel-last seperti dalam TensorFlow/Keras.\n",
    "\"\"\"\n",
    "# Reshape data to fit CNN input (e.g., 128x128x1 for grayscale)\n",
    "X_train = X_train[..., np.newaxis]\n",
    "X_test = X_test[..., np.newaxis]"
   ]
  },
  {
   "cell_type": "code",
   "execution_count": null,
   "id": "89f15a22-1e4b-43f6-923f-ef29d30defc4",
   "metadata": {},
   "outputs": [],
   "source": [
    "\"\"\"\n",
    "efinisikan arsitektur model Convolutional Neural Network (CNN) menggunakan TensorFlow/Keras dengan Sequential(). Model ini\n",
    "dirancang untuk klasifikasi data berbasis citra, dalam hal ini spektrogram Mel berukuran 128×128 piksel dalam skala grayscale\n",
    "(1 channel). Berikut adalah struktur modelnya:\n",
    "\n",
    "Conv2D(32, (3,3), activation='relu', input_shape=(128,128,1))\n",
    "\n",
    "Lapisan konvolusi pertama dengan 32 filter ukuran 3×3 dan fungsi aktivasi ReLU.\n",
    "input_shape=(128, 128, 1) menandakan input citra berukuran 128×128 dengan 1 channel (grayscale).\n",
    "MaxPooling2D((2,2))\n",
    "\n",
    "Lapisan pooling untuk mengurangi dimensi fitur, menggunakan ukuran 2×2.\n",
    "Conv2D(64, (3,3), activation='relu')\n",
    "\n",
    "Lapisan konvolusi kedua dengan 64 filter dan ukuran kernel 3×3.\n",
    "MaxPooling2D((2,2))\n",
    "\n",
    "Pooling untuk menyaring informasi penting dan mengurangi ukuran data.\n",
    "Conv2D(128, (3,3), activation='relu')\n",
    "\n",
    "Lapisan konvolusi ketiga dengan 128 filter.\n",
    "MaxPooling2D((2,2))\n",
    "\n",
    "Pooling terakhir untuk lebih menurunkan dimensi fitur.\n",
    "Flatten()\n",
    "\n",
    "Mengubah output 2D dari lapisan konvolusi menjadi vektor 1D untuk dimasukkan ke dalam lapisan fully connected.\n",
    "Dense(64, activation='relu')\n",
    "\n",
    "Lapisan fully connected dengan 64 neuron dan aktivasi ReLU untuk menangkap pola yang lebih kompleks.\n",
    "Dense(len(unique_labels), activation='softmax')\n",
    "\n",
    "Lapisan output dengan jumlah neuron sebanyak jumlah kelas unik dalam data (len(unique_labels)).\n",
    "Menggunakan aktivasi softmax agar menghasilkan probabilitas untuk setiap kelas dalam klasifikasi multi-kelas.\n",
    "Hasil akhirnya adalah model CNN yang siap untuk dilatih pada dataset spektrogram Mel untuk tugas klasifikasi audio.\n",
    "\"\"\"\n",
    "# Define CNN model\n",
    "model = Sequential([\n",
    "    Conv2D(32, (3, 3), activation='relu', input_shape=(128, 128, 1)),\n",
    "    MaxPooling2D((2, 2)),\n",
    "    Conv2D(64, (3, 3), activation='relu'),\n",
    "    MaxPooling2D((2, 2)),\n",
    "    Conv2D(128, (3, 3), activation='relu'),\n",
    "    MaxPooling2D((2, 2)),\n",
    "    Flatten(),\n",
    "    Dense(64, activation='relu'),\n",
    "    Dense(len(unique_labels), activation='softmax')  # Number of unique classes\n",
    "])\n",
    "\n",
    "# Compile model\n",
    "model.compile(optimizer='adam', loss='categorical_crossentropy', metrics=['accuracy'])\n",
    "\n",
    "# Train the model\n",
    "model.fit(X_train, y_train, epochs=10, validation_data=(X_test, y_test))\n",
    ")"
   ]
  },
  {
   "cell_type": "code",
   "execution_count": null,
   "id": "4198e003-c04b-4fe9-bf4e-cb84f5dce7d8",
   "metadata": {},
   "outputs": [],
   "source": [
    "# Step 7: Save the model\n",
    "model.save(\"audio_recognition_model.h5\")\n",
    "\n",
    "print(\"Model training complete and saved as 'audio_recognition_model.h5'.\")"
   ]
  }
 ],
 "metadata": {
  "kernelspec": {
   "display_name": "Python 3 (ipykernel)",
   "language": "python",
   "name": "python3"
  },
  "language_info": {
   "codemirror_mode": {
    "name": "ipython",
    "version": 3
   },
   "file_extension": ".py",
   "mimetype": "text/x-python",
   "name": "python",
   "nbconvert_exporter": "python",
   "pygments_lexer": "ipython3",
   "version": "3.11.6"
  }
 },
 "nbformat": 4,
 "nbformat_minor": 5
}
